{
 "cells": [
  {
   "cell_type": "code",
   "execution_count": 3,
   "metadata": {},
   "outputs": [],
   "source": [
    "# Подключаем библиотеку для выполнения запросов\n",
    "import requests\n",
    "\n",
    "\n",
    "# Базовый url api Вконтакте\n",
    "BASE_URL = \"http://api.vk.com/method/friends.search\"\n",
    "\n",
    "\n",
    "def get_list(user_id):\n",
    "    '''\n",
    "        Функция извличения списка друзей\n",
    "    '''\n",
    "    # Параметры запроса\n",
    "    params = {\n",
    "        'count': 5,\n",
    "        'user_id': user_id,\n",
    "        #'access_token': '972dc7f7972dc7f7972dc7f75d975e04479972d972dc7f7c87fdfe198bec228ec844c67',\n",
    "        'fields': 'photo_200_orig',\n",
    "        'v': 5.21, \n",
    "    }\n",
    "    \n",
    "    # Обработка запроса - декодинг и извлечение JSONа\n",
    "    r = requests.get(BASE_URL, params=params)\n",
    "    r.encoding = 'utf-8'\n",
    "    print(r.json())\n",
    "    return r.json()"
   ]
  },
  {
   "cell_type": "code",
   "execution_count": 4,
   "metadata": {},
   "outputs": [
    {
     "name": "stdout",
     "output_type": "stream",
     "text": [
      "{'error': {'error_code': 28, 'error_msg': 'Application authorization failed: method is unavailable with service token.', 'request_params': [{'key': 'count', 'value': '5'}, {'key': 'user_id', 'value': '94708365'}, {'key': 'fields', 'value': 'photo_200_orig'}, {'key': 'v', 'value': '5.21'}, {'key': 'method', 'value': 'friends.search'}, {'key': 'oauth', 'value': '1'}]}}\n"
     ]
    },
    {
     "data": {
      "text/plain": [
       "{'error': {'error_code': 28,\n",
       "  'error_msg': 'Application authorization failed: method is unavailable with service token.',\n",
       "  'request_params': [{'key': 'count', 'value': '5'},\n",
       "   {'key': 'user_id', 'value': '94708365'},\n",
       "   {'key': 'fields', 'value': 'photo_200_orig'},\n",
       "   {'key': 'v', 'value': '5.21'},\n",
       "   {'key': 'method', 'value': 'friends.search'},\n",
       "   {'key': 'oauth', 'value': '1'}]}}"
      ]
     },
     "execution_count": 4,
     "metadata": {},
     "output_type": "execute_result"
    }
   ],
   "source": [
    "get_list(94708365)"
   ]
  },
  {
   "cell_type": "code",
   "execution_count": null,
   "metadata": {},
   "outputs": [],
   "source": []
  }
 ],
 "metadata": {
  "kernelspec": {
   "display_name": "Python 3",
   "language": "python",
   "name": "python3"
  },
  "language_info": {
   "codemirror_mode": {
    "name": "ipython",
    "version": 3
   },
   "file_extension": ".py",
   "mimetype": "text/x-python",
   "name": "python",
   "nbconvert_exporter": "python",
   "pygments_lexer": "ipython3",
   "version": "3.8.2"
  }
 },
 "nbformat": 4,
 "nbformat_minor": 4
}
