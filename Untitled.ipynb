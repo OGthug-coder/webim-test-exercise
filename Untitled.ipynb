{
 "cells": [
  {
   "cell_type": "code",
   "execution_count": 12,
   "metadata": {},
   "outputs": [],
   "source": [
    "# Подключаем библиотеку для выполнения запросов\n",
    "import requests\n",
    "\n",
    "\n",
    "# Базовый url api Вконтакте\n",
    "BASE_URL = \"http://api.vk.com/method/friends.get\"\n",
    "\n",
    "\n",
    "def get_list(user_id):\n",
    "    '''\n",
    "        Функция извличения списка друзей\n",
    "    '''\n",
    "    # Параметры запроса\n",
    "    params = {\n",
    "        'count': 5,\n",
    "        'user_id': user_id,\n",
    "        'access_token': '972dc7f7972dc7f7972dc7f75d975e04479972d972dc7f7c87fdfe198bec228ec844c67',\n",
    "        'fields': 'photo_200_orig',\n",
    "        'v': 5.21, \n",
    "    }\n",
    "    \n",
    "    # Обработка запроса - декодинг и извлечение JSONа\n",
    "    r = requests.get(BASE_URL, params=params)\n",
    "    r.encoding = 'utf-8'\n",
    "    return r.json()"
   ]
  },
  {
   "cell_type": "code",
   "execution_count": 14,
   "metadata": {},
   "outputs": [
    {
     "data": {
      "text/plain": [
       "[{'id': 1750579,\n",
       "  'first_name': 'Alexander',\n",
       "  'last_name': 'Budimirov',\n",
       "  'photo_200_orig': 'https://sun9-31.userapi.com/impg/c206720/v206720158/84f5b/KxiJ8qD7w9Q.jpg?size=200x0&quality=90&crop=0,84,875,1196&sign=444a26a402fbf3a8c81dae9c4fae059d&c_uniq_tag=k2Qwuaug1TOc_Ph1qCOPMelwIlsMbRC6FYB6QsIJHm0&ava=1',\n",
       "  'track_code': '2d7e86686F7Ey-TUnoqWUT1EKN7s8t6whmxgOb1IgFWS8nR0xjqFNZyt1YfN254BCu68RmCCp7OGBQU'},\n",
       " {'id': 1813383,\n",
       "  'first_name': 'Denis',\n",
       "  'last_name': 'Tsvetkov',\n",
       "  'photo_200_orig': 'https://sun9-24.userapi.com/impf/c837239/v837239076/46533/jXlZIfC9Mdg.jpg?size=200x0&quality=90&crop=211,0,1615,1615&sign=69b3dbdabed0fe1138fa99650fb3c6fb&c_uniq_tag=IgylD8mhNIB4IW6ZxDb30B66UzvnsVJiICU_2aPDt8E&ava=1',\n",
       "  'track_code': '77c69e4dltfn7WPUfn6D8W21h1NMb6s7JceSH_KjQsqAsoEDM-37vLqIUNR1e9P0VBUTy8Af0jglrvc'},\n",
       " {'id': 4620360,\n",
       "  'first_name': 'Alexey',\n",
       "  'last_name': 'Grischenko',\n",
       "  'photo_200_orig': 'https://sun9-7.userapi.com/c4934/u4620360/a_82a76136.jpg?ava=1',\n",
       "  'track_code': '473b5a97zce0fftOwh8XqX1wXbzrNf78lRk1Ix4hMdh5pZJynv2grO1Ink2SHkatSdPJJGdFh_-VcFA'},\n",
       " {'id': 8010641,\n",
       "  'first_name': 'Anastasia',\n",
       "  'last_name': 'Korobeynikova',\n",
       "  'photo_200_orig': 'https://sun9-45.userapi.com/impg/c857120/v857120655/1bacfb/YC95tt4ZiGQ.jpg?size=200x0&quality=90&crop=0,0,1931,1931&sign=d7197ffcfdf935adbdcf8a67b11459f8&c_uniq_tag=9DOYxVhnoOkMS3pSjO4xMc56kM5nX60O_XX-EOAGxSs&ava=1',\n",
       "  'track_code': '9157d5efKl5DF-EMhnO4LLM3vTXXZKI_2mqGp1D1mOogLkgGBd9HNUtz0wzSdbh8hJUprVsU2zzaA-M'},\n",
       " {'id': 14662256,\n",
       "  'first_name': 'Max',\n",
       "  'last_name': 'Shtamm',\n",
       "  'photo_200_orig': 'https://sun9-39.userapi.com/impg/c854416/v854416760/24c15d/ZTv9LvdYAGc.jpg?size=200x0&quality=90&crop=320,0,1920,1920&sign=ad95b7c2ae5c7cb5e4e1d3f3b367961e&c_uniq_tag=yDGRpOqHFw4fTe2Mw7VWH5Y-nJJ0zaq1IMCQMTbsLVQ&ava=1',\n",
       "  'track_code': '6ed510e4p2XxTMiIoGwn-eVG_i5VNX-fidgdwbl3kUPBgflmHN7KDq1799ijb3Wp0-Ba3dVWH5Kew3iv'}]"
      ]
     },
     "execution_count": 14,
     "metadata": {},
     "output_type": "execute_result"
    }
   ],
   "source": [
    "get_list(147993097)['response']['items']"
   ]
  },
  {
   "cell_type": "code",
   "execution_count": null,
   "metadata": {},
   "outputs": [],
   "source": []
  }
 ],
 "metadata": {
  "kernelspec": {
   "display_name": "Python 3",
   "language": "python",
   "name": "python3"
  },
  "language_info": {
   "codemirror_mode": {
    "name": "ipython",
    "version": 3
   },
   "file_extension": ".py",
   "mimetype": "text/x-python",
   "name": "python",
   "nbconvert_exporter": "python",
   "pygments_lexer": "ipython3",
   "version": "3.8.2"
  }
 },
 "nbformat": 4,
 "nbformat_minor": 4
}
